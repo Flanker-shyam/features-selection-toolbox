{
 "cells": [
  {
   "cell_type": "code",
   "execution_count": 496,
   "metadata": {},
   "outputs": [],
   "source": [
    "import numpy as np\n",
    "\n",
    "#this function will calculate the different values needed to calculate the correlation factor..   \n",
    "\n",
    "def calculateVariables(feature,target):\n",
    "  calculated_array=[]\n",
    "  sum_x=0\n",
    "  sum_y =0\n",
    "  sum_xx = 0\n",
    "  sum_yy = 0\n",
    "  sum_xy = 0 \n",
    "\n",
    "  len = np.size(feature)\n",
    "\n",
    "  for i in range(0,len-1):\n",
    "    sum_x = sum_x + feature[i]\n",
    "    sum_y = sum_y + target[i]\n",
    "    sum_xx = sum_xx + feature[i]*feature[i]\n",
    "    sum_yy = sum_yy + target[i]*target[i]\n",
    "    sum_xy = sum_xy + feature[i]*target[i]\n",
    "\n",
    "  calculated_array.append(sum_x)\n",
    "  calculated_array.append(sum_y)\n",
    "  calculated_array.append(sum_xx)\n",
    "  calculated_array.append(sum_yy)\n",
    "  calculated_array.append(sum_xy)\n",
    "\n",
    "  return calculated_array     #and returned them in the form of a list of values \n"
   ]
  },
  {
   "cell_type": "code",
   "execution_count": 497,
   "metadata": {},
   "outputs": [],
   "source": [
    "import math\n",
    "\n",
    "#this functiion will calculate all correlation scores with the passed feature and the target.. \n",
    "\n",
    "def findCorrelation(feature, target):         \n",
    "  featureArray = np.array(df[feature])\n",
    "  targetArray = np.array(df[target])\n",
    "  ansArray = calculateVariables(featureArray, targetArray)\n",
    "\n",
    "  len = np.size(featureArray)\n",
    "\n",
    "  corr = (len*ansArray[4] - ansArray[0]*ansArray[1])/math.sqrt((len*ansArray[2]-ansArray[0]*ansArray[0])*(len*ansArray[3]-ansArray[1]*ansArray[1]))\n",
    "  return corr\n",
    "\n"
   ]
  },
  {
   "cell_type": "code",
   "execution_count": 498,
   "metadata": {},
   "outputs": [],
   "source": [
    "import pandas as pd\n",
    "from sklearn import tree\n",
    "from sklearn.model_selection import train_test_split\n",
    "from sklearn.metrics import accuracy_score\n",
    "\n",
    "df = pd.read_csv('datasets/wine.csv')\n",
    "\n",
    "X = df.drop(['y'], axis = 1)\n",
    "Y = df['y']"
   ]
  },
  {
   "cell_type": "code",
   "execution_count": 499,
   "metadata": {},
   "outputs": [],
   "source": [
    "\n",
    "# here i have calculated the feature to target correlation score of each feature and stored it in a dictionary .. \n",
    "corr_feature_target_dict = dict()\n",
    "\n",
    "featureNames = list(X)\n",
    "\n",
    "\n",
    "def findforFeatureTarget():\n",
    "  for i in range (0,len(featureNames)):\n",
    "    value = findCorrelation(featureNames[i], 'y')\n",
    "    corr_feature_target_dict.update({featureNames[i]:value})\n",
    "\n",
    "\n",
    "findforFeatureTarget()\n",
    "# corr_feature_target_dict = sorted(corr_feature_target_dict.items(), key=lambda x:x[1], reverse=True)\n",
    "# corr_feature_target_dict = dict(corr_feature_target_dict)      #dictioanry of correlation score of each feature corresponding to the targets..\n",
    "\n",
    "# corr_feature_target_dict"
   ]
  },
  {
   "cell_type": "code",
   "execution_count": 500,
   "metadata": {},
   "outputs": [],
   "source": [
    "from random import choices , randint, randrange , random\n",
    "\n",
    "# function for encoding -> it will generate binary chromosomes contains 0,1 as genes\n",
    "\n",
    "def generate_genome(length):\n",
    "  return (choices([0,1], k=length))\n"
   ]
  },
  {
   "cell_type": "code",
   "execution_count": 501,
   "metadata": {},
   "outputs": [],
   "source": [
    "#it will just convert an array to a string\n",
    "\n",
    "def listToString(s):\n",
    "\n",
    "    str1 = \"\"\n",
    "\n",
    "    for ele in s:\n",
    "        str1 += str(ele)\n",
    "\n",
    "    return str1"
   ]
  },
  {
   "cell_type": "code",
   "execution_count": 502,
   "metadata": {},
   "outputs": [],
   "source": [
    "def stringToList(s):\n",
    "  mylist=[]\n",
    "\n",
    "  for ele in s:\n",
    "    mylist.append(int(ele))\n",
    "  \n",
    "  return mylist"
   ]
  },
  {
   "cell_type": "code",
   "execution_count": 503,
   "metadata": {},
   "outputs": [],
   "source": [
    "#function to generate an initial population for the evolution\n",
    "\n",
    "list_population=[]\n",
    "\n",
    "def generate_population(size , length):\n",
    "  for i in range(0,size):    #loop will run, the number of times = the population we want to pick \n",
    "    genome = generate_genome(length)  #call to function, generate_genome().. \n",
    "\n",
    "    for j in range (length-1):\n",
    "      if genome[j]==1 and corr_feature_target_dict[str(j+1)]<=0:\n",
    "        genome[j]=0\n",
    "\n",
    "    stringGenome = listToString(genome)\n",
    "    list_population.append(stringGenome)\n",
    "  return list_population   #returned the list of selected population.. \n",
    "\n",
    "\n",
    "# generate_population(6, 13)"
   ]
  },
  {
   "cell_type": "code",
   "execution_count": 504,
   "metadata": {},
   "outputs": [],
   "source": [
    "#this function will do crossover of the two parent chromosomes provided to it.. \n",
    "\n",
    "def crossover(genome_a, genome_b):\n",
    "  if len(genome_a) != len(genome_b):     #if length of the two genomes is not equal , through error... \n",
    "    raise ValueError(\"Genomes a and b must be of same length\")\n",
    "\n",
    "  length = len(genome_a)\n",
    "  if(length <2):     #if their length is less than 2, then is no need of performing crossover.. \n",
    "    return genome_a, genome_b\n",
    "\n",
    "  p = randint(1, length-1)    #generate a random number, from 1 to lenght of the genome.. \n",
    "  return genome_a[0:p]+genome_b[p:], genome_b[0:p]+genome_a[p:]        #cut and attach parts of two genomes.. to make new pair of child genome.. \n",
    "\n"
   ]
  },
  {
   "cell_type": "code",
   "execution_count": 505,
   "metadata": {},
   "outputs": [],
   "source": [
    "#this function will do mutation of the the child chromosome provided to it \n",
    "\n",
    "def mutation(genome , num=1 , probability=0.2):    #\n",
    "  for _ in range(num):   #run loop multiple times, default value is 1\n",
    "    index = randrange(len(genome))      #generate a random index from 0 to length o fthe genome\n",
    "    genome = stringToList(genome)\n",
    "    genome[index] = genome[index] if random()>probability else abs(genome[index]-1)   #now generate a random value from 0 to 1 , and if it is greater than probability value, then do not change the value of the index, else change\n",
    "    genome = listToString(genome)\n",
    "  return genome\n",
    "\n",
    "  "
   ]
  },
  {
   "cell_type": "code",
   "execution_count": 506,
   "metadata": {},
   "outputs": [
    {
     "data": {
      "text/plain": [
       "0.9333333333333333"
      ]
     },
     "execution_count": 506,
     "metadata": {},
     "output_type": "execute_result"
    }
   ],
   "source": [
    "# fitness function to check the fitness of the parent\n",
    "#To test the efficiency I am using all the features here.. \n",
    "\n",
    "train_X, test_X, train_Y, test_Y = train_test_split(X,Y, random_state = 0)\n",
    "\n",
    "model = tree.DecisionTreeClassifier(criterion=\"gini\")\n",
    "\n",
    "model.fit(train_X, train_Y);\n",
    "\n",
    "predictions = model.predict(test_X);\n",
    "\n",
    "score = accuracy_score(test_Y , predictions)\n",
    "\n",
    "score\n"
   ]
  },
  {
   "cell_type": "code",
   "execution_count": 507,
   "metadata": {},
   "outputs": [],
   "source": [
    "# fitness function to check the fitness of the parent\n",
    "#this function will calculate the fitness score of each of the parent chromosome.. \n",
    "\n",
    "def calculate_fitness(genome):\n",
    "  arr = list(genome)\n",
    "\n",
    "  features_arr = []\n",
    "\n",
    "  for i in range(0,len(arr)):\n",
    "    if(arr[i]=='1'):\n",
    "      features_arr.append(str(i+1))\n",
    "    \n",
    "  data_X = df[features_arr]\n",
    "  data_Y = Y\n",
    "\n",
    "  train_data_X, test_data_X, train_data_Y, test_data_Y = train_test_split(data_X,data_Y, random_state = 0)\n",
    "\n",
    "  model1 = tree.DecisionTreeClassifier(criterion=\"gini\")\n",
    "\n",
    "  model1.fit(train_data_X, train_data_Y);\n",
    "\n",
    "  predictions = model1.predict(test_data_X);\n",
    "\n",
    "  score1 = accuracy_score(test_data_Y , predictions)\n",
    "  return score1\n",
    "\n"
   ]
  },
  {
   "cell_type": "code",
   "execution_count": 508,
   "metadata": {},
   "outputs": [],
   "source": [
    "#this function will randomly pick two parents out of the population and return them \n",
    "\n",
    "def select_parents(population):   # choices(list, weights, k)\n",
    "   return choices(\n",
    "      population = population,\n",
    "      weights = [calculate_fitness(gene) for gene in population],\n",
    "      k=2\n",
    "  )"
   ]
  },
  {
   "cell_type": "code",
   "execution_count": 509,
   "metadata": {},
   "outputs": [],
   "source": [
    "#this is our main function, it will continue our evolution generation by generation until we reach a specific fitness score:\n",
    "\n",
    "def continue_evolution(generation_limit,fitness_limit, size, length):\n",
    "  population = generate_population(size, length)    #generate an intial population using generate_population function \n",
    "\n",
    "  total_generations=0\n",
    "\n",
    "  for generation in range(generation_limit):  # run the loop (number of generations) upto the passed value.. or until the desired value is attained. \n",
    "      population_dict = dict() \n",
    "      total_generations+=1   \n",
    "\n",
    "      for i in range(0, len(population)):     #now run the loop for each chromosome in the population\n",
    "          population_dict.update({population[i] : calculate_fitness(population[i])})   #calculate their fitness score and update them in a doctionary..\n",
    "\n",
    "      population_dict = sorted(population_dict.items(), key=lambda x:x[1], reverse=True)   #sort the dictionary , based on the score value..\n",
    "      population_dict = dict(population_dict)\n",
    "\n",
    "      sorted_pop = population_dict.keys()  \n",
    "      population = list(sorted_pop)  #generate a sorted list of population from the dictionary..\n",
    "\n",
    "      if population_dict[population[0]] >= fitness_limit:  #if the fitness score of the best scored chromosome is greater then the desired score, break out of the loop..\n",
    "          return [total_generations, population[0],population_dict[population[0]]]\n",
    "\n",
    "      next_generation = population[0:2]  #put the first two best chromosome of the population into the next generation list.. \n",
    "\n",
    "      for j in range(int(len(population)/2)-1):    #run the loop half-1 the time of the number of chromosomes in the population ..\n",
    "          parents = select_parents(population)       # generate two random parents out of the population\n",
    "          child1 , child2 = crossover(parents[0], parents[1])  #make crossover on them and created two child chromosomes..\n",
    "          child1 = mutation(child1)    #do mutatiom on both of the child chromosomes.. \n",
    "          child2 = mutation(child2)   \n",
    "          next_generation += [child1,  child2]     #add the generated child into the next generation \n",
    "\n",
    "      population = next_generation    #make ext generation as the new population and start the iteration again..\n",
    "\n",
    "  score = calculate_fitness(population[0])\n",
    "  # return the list of last chosed generation\n",
    "  return [total_generations,population[0],score]  \n",
    "  \n"
   ]
  },
  {
   "cell_type": "code",
   "execution_count": 510,
   "metadata": {},
   "outputs": [
    {
     "name": "stdout",
     "output_type": "stream",
     "text": [
      "[2, '0100000001001', 0.9333333333333333]\n"
     ]
    }
   ],
   "source": [
    "# This function will start the evolution: \n",
    "\n",
    "def start_evolution():\n",
    "  fittest = continue_evolution(100,0.93,6,13)  #call to start_evolution function.. \n",
    "  print(fittest)\n",
    "\n",
    "start_evolution()"
   ]
  }
 ],
 "metadata": {
  "kernelspec": {
   "display_name": "Python 3",
   "language": "python",
   "name": "python3"
  },
  "language_info": {
   "codemirror_mode": {
    "name": "ipython",
    "version": 3
   },
   "file_extension": ".py",
   "mimetype": "text/x-python",
   "name": "python",
   "nbconvert_exporter": "python",
   "pygments_lexer": "ipython3",
   "version": "3.10.6"
  },
  "orig_nbformat": 4
 },
 "nbformat": 4,
 "nbformat_minor": 2
}
